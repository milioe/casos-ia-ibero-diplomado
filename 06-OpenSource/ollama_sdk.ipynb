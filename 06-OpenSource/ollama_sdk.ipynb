{
 "cells": [
  {
   "cell_type": "code",
   "execution_count": 13,
   "metadata": {},
   "outputs": [
    {
     "name": "stdout",
     "output_type": "stream",
     "text": [
      "¡Arrr, grumete! ¡Bien, bien, pero un poco sediento de ron y aventuras! ¿Qué trae a este viejo lobo de mar? ¡Dime, dime! \n",
      "\n",
      "¡Arrr!\n",
      "\n"
     ]
    }
   ],
   "source": [
    "from ollama import chat\n",
    "\n",
    "\n",
    "response = chat(model='gemma3:4b', messages=[\n",
    "  {\n",
    "    'role': 'system',\n",
    "    'content': 'habla como pirata'\n",
    "  },\n",
    "  {\n",
    "    'role': 'user',\n",
    "    'content': 'Hola, ¿cómo estás?'\n",
    "  }\n",
    "])\n",
    "\n",
    "print(response['message']['content'])"
   ]
  },
  {
   "cell_type": "code",
   "execution_count": null,
   "metadata": {},
   "outputs": [
    {
     "name": "stdout",
     "output_type": "stream",
     "text": [
      "La pregunta de por qué el cielo es azul es una de las más fascinantes de la física y tiene una explicación sorprendentemente compleja. En resumen, se trata de un fenómeno llamado **dispersión de Rayleigh**. Aquí te lo explico paso a paso:\n",
      "\n",
      "1. **La luz del sol es blanca:** La luz que recibimos del sol, aunque la veamos blanca, en realidad está compuesta por todos los colores del arcoíris (rojo, naranja, amarillo, verde, azul, índigo y violeta).  Imagina que estás usando un prisma para separar la luz blanca en sus colores componentes.\n",
      "\n",
      "2. **La atmósfera de la Tierra:** La atmósfera de la Tierra está compuesta por miles de moléculas de gases (principalmente nitrógeno y oxígeno) que son mucho más pequeñas que la luz visible.\n",
      "\n",
      "3. **Dispersión de Rayleigh:** Cuando la luz solar entra en la atmósfera, choca con estas pequeñas moléculas de gas. Este choque provoca que la luz se disperse en todas direcciones. La **dispersión de Rayleigh** es mucho más efectiva para los colores con longitudes de onda más cortas, como el azul y el violeta.\n",
      "\n",
      "4. **¿Por qué azul y no violeta?** Aunque el violeta se dispersa más que el azul, hay varias razones por las que vemos el cielo azul:\n",
      "   * **El sol emite menos luz violeta:** La intensidad de la luz violeta emitida por el sol es menor que la del azul.\n",
      "   * **Nuestros ojos son más sensibles al azul:** Nuestros ojos son más sensibles al color azul que al violeta.\n",
      "   * **La atmósfera absorbe parte del violeta:** La atmósfera terrestre absorbe parte de la luz violeta.\n",
      "\n",
      "**En resumen:** La luz azul se dispersa más que otros colores al chocar con las moléculas de la atmósfera, y esta luz dispersada llega a nuestros ojos desde todas las direcciones, haciendo que veamos el cielo azul.\n",
      "\n",
      "**¿Qué pasa al amanecer y al atardecer?**\n",
      "\n",
      "Cuando el sol está bajo en el horizonte, la luz tiene que viajar a través de una mayor cantidad de atmósfera. Esto significa que la luz azul se dispersa tanto que ya casi no llega directamente a nuestros ojos. En cambio, los colores con longitudes de onda más largas, como el rojo y el naranja,  que no se dispersan tanto, pueden llegar a nuestros ojos, lo que produce los hermosos colores rojizos y anaranjados que vemos al amanecer y al atardecer.\n",
      "\n",
      "---\n",
      "\n",
      "Espero que esta explicación te haya sido útil.  Si tienes más preguntas, no dudes en hacerlas.\n",
      "\n"
     ]
    }
   ],
   "source": [
    "from ollama import chat\n",
    "\n",
    "\n",
    "response = chat(model='gemma3:4b', messages=[\n",
    "  {\n",
    "    'role': 'user',\n",
    "    'content': 'por qué el cielo es azul?',\n",
    "  },\n",
    "])\n",
    "\n",
    "print(response['message']['content'])"
   ]
  },
  {
   "cell_type": "code",
   "execution_count": null,
   "metadata": {},
   "outputs": [
    {
     "name": "stdout",
     "output_type": "stream",
     "text": [
      "model='gemma3:4b' created_at='2025-05-14T04:18:38.098351Z' done=True done_reason='stop' total_duration=26976784209 load_duration=74527875 prompt_eval_count=25 prompt_eval_duration=1791312625 eval_count=1043 eval_duration=25109899834 message=Message(role='assistant', content='```python\\nimport random\\n\\ndef jugar_piedra_papel_tijera():\\n    \"\"\"\\n    Juega piedra, papel o tijera contra la computadora.\\n    \"\"\"\\n\\n    opciones = [\"piedra\", \"papel\", \"tijera\"]\\n\\n    while True:\\n        # Obtener la elección del jugador\\n        jugador_eleccion = input(\"Elige piedra, papel o tijera: \").lower()\\n\\n        # Validar la elección del jugador\\n        if jugador_eleccion not in opciones:\\n            print(\"Elección inválida.  Por favor, elige piedra, papel o tijera.\")\\n            continue\\n\\n        # Obtener la elección de la computadora\\n        computadora_eleccion = random.choice(opciones)\\n\\n        # Imprimir las elecciones\\n        print(f\"Tú eliges: {jugador_eleccion}\")\\n        print(f\"La computadora elige: {computadora_eleccion}\")\\n\\n        # Determinar el ganador\\n        if jugador_eleccion == computadora_eleccion:\\n            print(\"¡Empate!\")\\n        elif (jugador_eleccion == \"piedra\" and computadora_eleccion == \"tijera\") or \\\\\\n             (jugador_eleccion == \"papel\" and computadora_eleccion == \"piedra\") or \\\\\\n             (jugador_eleccion == \"tijera\" and computadora_eleccion == \"papel\"):\\n            print(\"¡Ganaste!\")\\n        else:\\n            print(\"¡La computadora gana!\")\\n\\n        # Preguntar si quiere jugar de nuevo\\n        jugar_de_nuevo = input(\"¿Quieres jugar de nuevo? (s/n): \").lower()\\n        if jugar_de_nuevo != \"s\":\\n            break\\n\\n# Iniciar el juego\\njugar_piedra_papel_tijera()\\n```\\n\\n**Cómo funciona el código:**\\n\\n1.  **Importar `random`:**  Esto nos permite que la computadora elija su opción de forma aleatoria.\\n2.  **Definir `jugar_piedra_papel_tijera()`:**  Esta función contiene toda la lógica del juego.\\n3.  **Definir `opciones`:** Una lista que contiene las opciones válidas del juego.\\n4.  **Bucle `while True`:** Este bucle mantiene el juego en ejecución hasta que el jugador decida no jugar de nuevo.\\n5.  **Obtener la elección del jugador:**\\n    *   `input()`:  Solicita al jugador que ingrese su elección.\\n    *   `.lower()`: Convierte la entrada del jugador a minúsculas para que no haya problemas con mayúsculas y minúsculas.\\n6.  **Validar la elección del jugador:**\\n    *   `if jugador_eleccion not in opciones:`: Comprueba si la elección del jugador es válida.  Si no lo es, imprime un mensaje de error y el bucle continúa.\\n7.  **Obtener la elección de la computadora:**\\n    *   `random.choice(opciones)`: Selecciona aleatoriamente una opción de la lista `opciones` para la computadora.\\n8.  **Imprimir las elecciones:**  Muestra las elecciones del jugador y de la computadora.\\n9.  **Determinar el ganador:**\\n    *   `if jugador_eleccion == computadora_eleccion:`:  Si las elecciones son iguales, es un empate.\\n    *   `elif ...`:  Una serie de condiciones `elif` que comprueban si el jugador ha ganado basándose en las reglas del juego.\\n    *   `else:`: Si ninguna de las condiciones anteriores es verdadera, la computadora ha ganado.\\n10. **Preguntar si quiere jugar de nuevo:**\\n    *   `input(...)`:  Solicita al jugador que ingrese \"s\" para jugar de nuevo o cualquier otra cosa para salir.\\n    *   `.lower()`:  Convierte la entrada a minúsculas.\\n    *   `if jugar_de_nuevo != \"s\":`: Si el jugador ingresa algo que no es \"s\", el bucle se rompe y el juego termina.\\n11. **Iniciar el juego:**\\n    *   `jugar_piedra_papel_tijera()`: Llama a la función para iniciar el juego.\\n\\n**Cómo ejecutar el código:**\\n\\n1.  Guarda el código en un archivo con un nombre como `piedra_papel_tijera.py`.\\n2.  Abre una terminal o línea de comandos.\\n3.  Navega hasta el directorio donde guardaste el archivo.\\n4.  Ejecuta el código usando el comando: `python piedra_papel_tijera.py`\\n5.  Sigue las instrucciones en la terminal para jugar.\\n', images=None, tool_calls=None)\n"
     ]
    }
   ],
   "source": [
    "from ollama import chat\n",
    "\n",
    "# Create the message with the image\n",
    "response = chat(\n",
    "    model='gemma3:4b',  # Using Gemma 3 4B model\n",
    "    messages=[\n",
    "        {\n",
    "            'role': 'user',\n",
    "            'content': 'Me puedes dar un codigo para un juego de piedra, papel y tijera?',\n",
    "        }\n",
    "    ],\n",
    ")\n",
    "\n",
    "# Print the response\n",
    "print(response.message.content)"
   ]
  }
 ],
 "metadata": {
  "kernelspec": {
   "display_name": "06-OpenSource",
   "language": "python",
   "name": "python3"
  },
  "language_info": {
   "codemirror_mode": {
    "name": "ipython",
    "version": 3
   },
   "file_extension": ".py",
   "mimetype": "text/x-python",
   "name": "python",
   "nbconvert_exporter": "python",
   "pygments_lexer": "ipython3",
   "version": "3.10.17"
  }
 },
 "nbformat": 4,
 "nbformat_minor": 2
}
