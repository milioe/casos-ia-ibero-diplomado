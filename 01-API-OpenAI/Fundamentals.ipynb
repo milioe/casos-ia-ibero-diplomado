{
 "cells": [
  {
   "cell_type": "markdown",
   "metadata": {},
   "source": [
    "# Core concepts"
   ]
  },
  {
   "cell_type": "markdown",
   "metadata": {},
   "source": [
    "```\n",
    "!pip install openai\n",
    "```"
   ]
  },
  {
   "cell_type": "markdown",
   "metadata": {},
   "source": [
    "## Texto"
   ]
  },
  {
   "cell_type": "code",
   "execution_count": 55,
   "metadata": {},
   "outputs": [],
   "source": [
    "from openai import OpenAI\n",
    "import os\n",
    "from dotenv import load_dotenv\n",
    "\n",
    "load_dotenv()\n",
    "\n",
    "OPENAI_API_KEY = os.getenv(\"OPENAI_API_KEY\")\n",
    "OPENAI_ORG_ID = os.getenv(\"OPENAI_ORG_ID\")\n",
    "\n"
   ]
  },
  {
   "cell_type": "code",
   "execution_count": 56,
   "metadata": {},
   "outputs": [
    {
     "name": "stdout",
     "output_type": "stream",
     "text": [
      "Response(id='resp_680d0433d0e48192ad7e6077f028431f0ab1c5da504e0717', created_at=1745683507.0, error=None, incomplete_details=None, instructions=None, metadata={}, model='gpt-4o-2024-08-06', object='response', output=[ResponseOutputMessage(id='msg_680d043496088192a92b523fe5e601d40ab1c5da504e0717', content=[ResponseOutputText(annotations=[], text='¡Hola! Estoy bien, gracias. ¿Y tú? ¿En qué puedo ayudarte hoy?', type='output_text')], role='assistant', status='completed', type='message')], parallel_tool_calls=True, temperature=1.0, tool_choice='auto', tools=[], top_p=1.0, max_output_tokens=None, previous_response_id=None, reasoning=Reasoning(effort=None, generate_summary=None, summary=None), service_tier='default', status='completed', text=ResponseTextConfig(format=ResponseFormatText(type='text')), truncation='disabled', usage=ResponseUsage(input_tokens=13, input_tokens_details=InputTokensDetails(cached_tokens=0), output_tokens=20, output_tokens_details=OutputTokensDetails(reasoning_tokens=0), total_tokens=33), user=None, store=True)\n"
     ]
    }
   ],
   "source": [
    "client = OpenAI(\n",
    "    api_key=OPENAI_API_KEY,\n",
    "    organization=OPENAI_ORG_ID\n",
    ")\n",
    "\n",
    "response = client.responses.create(\n",
    "    model=\"gpt-4o\",\n",
    "    input=\"Hola! ¿Cómo estás?\"\n",
    ")\n",
    "\n",
    "print(response)"
   ]
  },
  {
   "cell_type": "code",
   "execution_count": 57,
   "metadata": {},
   "outputs": [
    {
     "name": "stdout",
     "output_type": "stream",
     "text": [
      "¡Hola! Estoy bien, gracias. ¿Y tú? ¿En qué puedo ayudarte hoy?\n"
     ]
    }
   ],
   "source": [
    "print(response.output_text)"
   ]
  },
  {
   "cell_type": "code",
   "execution_count": 59,
   "metadata": {},
   "outputs": [
    {
     "name": "stdout",
     "output_type": "stream",
     "text": [
      "¡Hola! Soy Iber.ia, tu asistente virtual de la Ibero. ¿Cuál es tu nombre?\n"
     ]
    }
   ],
   "source": [
    "response = client.responses.create(\n",
    "    model=\"gpt-4o\",\n",
    "    input=[\n",
    "        {\n",
    "            \"role\": \"system\",\n",
    "            \"content\": \"Eres un asistente de IA que ayuda a los alumnos de la Ibero a resolver sus dudas. Siempre presentate como Iber.ia y pregunta el nombre del alumno.\"\n",
    "        },\n",
    "        {\n",
    "            \"role\": \"user\",\n",
    "            \"content\": \"Hola!\"\n",
    "        }\n",
    "    ]\n",
    ")\n",
    "\n",
    "print(response.output_text)"
   ]
  },
  {
   "cell_type": "code",
   "execution_count": 61,
   "metadata": {},
   "outputs": [
    {
     "name": "stdout",
     "output_type": "stream",
     "text": [
      "Input tokens: 48\n",
      "Input tokens cached: 0\n",
      "Output tokens: 24\n",
      "Total tokens: 72\n"
     ]
    }
   ],
   "source": [
    "print(f\"Input tokens: {response.usage.input_tokens}\")\n",
    "print(f\"Input tokens cached: {response.usage.input_tokens_details.cached_tokens}\")\n",
    "print(f\"Output tokens: {response.usage.output_tokens}\")\n",
    "print(f\"Total tokens: {response.usage.total_tokens}\")"
   ]
  },
  {
   "cell_type": "code",
   "execution_count": null,
   "metadata": {},
   "outputs": [
    {
     "name": "stdout",
     "output_type": "stream",
     "text": [
      "En el susurro leve de la brisa  \n",
      "nace un sueño de luz entre los árboles,  \n",
      "donde el tiempo se esconde y se desliza  \n",
      "como un río de instantes inefables.\n",
      "\n",
      "El sol pinta de oro las distancias,  \n",
      "las hojas bailan, verdes, en el aire,  \n",
      "y el mundo se detiene en esperanzas  \n",
      "que florecen sin miedo a desvanecerse.\n",
      "\n",
      "Caminante, detén tu paso y mira:  \n",
      "la\n"
     ]
    }
   ],
   "source": [
    "client = OpenAI(\n",
    "    api_key=OPENAI_API_KEY,\n",
    "    organization=OPENAI_ORG_ID\n",
    ")\n",
    "\n",
    "response = client.responses.create(\n",
    "    model=\"gpt-4.1\",\n",
    "    input=\"Escribe un poema de 100 palabras\",\n",
    "    temperature=0.2,\n",
    "    max_output_tokens=100\n",
    ")\n",
    "\n",
    "print(response.output_text)"
   ]
  },
  {
   "cell_type": "markdown",
   "metadata": {},
   "source": [
    "## Imagenes"
   ]
  },
  {
   "cell_type": "code",
   "execution_count": 68,
   "metadata": {},
   "outputs": [
    {
     "name": "stdout",
     "output_type": "stream",
     "text": [
      "La imagen muestra un templo antiguo con múltiples columnas dóricas. Parece ser el Partenón, localizado en la Acrópolis de Atenas, Grecia. La estructura es icónica y se encuentra sobre una colina, rodeada de piedras y fragmentos arqueológicos. El cielo está despejado y azul.\n"
     ]
    }
   ],
   "source": [
    "from openai import OpenAI\n",
    "\n",
    "client = OpenAI(\n",
    "    api_key=OPENAI_API_KEY,\n",
    "    organization=OPENAI_ORG_ID\n",
    ")\n",
    "\n",
    "response = client.responses.create(\n",
    "    model=\"gpt-4o\",\n",
    "    input=[{\n",
    "        \"role\": \"user\",\n",
    "        \"content\": [\n",
    "            {\"type\": \"input_text\", \"text\": \"Dime qué ves en esta imagen\"},\n",
    "            # {\"type\": \"input_text\", \"text\": \"Hoy es martes 12 pm, me puedo estaiconar acorde a las reglas de parquing\"},\n",
    "            {\n",
    "                \"type\": \"input_image\",\n",
    "                \"image_url\": \"https://upload.wikimedia.org/wikipedia/commons/d/da/The_Parthenon_in_Athens.jpg\",\n",
    "            },\n",
    "        ],\n",
    "    }],\n",
    "    max_output_tokens=1_000\n",
    ")\n",
    "\n",
    "print(response.output_text)"
   ]
  },
  {
   "cell_type": "code",
   "execution_count": 71,
   "metadata": {},
   "outputs": [
    {
     "name": "stdout",
     "output_type": "stream",
     "text": [
      "```markdown\n",
      "| Cantidad por porción | Valor Diario* |\n",
      "|----------------------|---------------|\n",
      "| Calorías 100         |               |\n",
      "| Grasa Total 0 g      | 0%            |\n",
      "| Sodio 30 mg          | 1%            |\n",
      "| Carbohidrato Total 24 g | 8%         |\n",
      "| Azúcares 24 g        |               |\n",
      "| Proteína 0 g         | 0%            |\n",
      "\n",
      "*No es una fuente significativa de Calorías de la Grasa, Grasa Saturada, Grasa Trans, Colesterol, Fibra Dietaria, Vitamina A, Vitamina C, Calcio y Hierro.\n",
      "\n",
      "Los porcentajes de Valores Diarios están basados en una dieta de 2000 calorías.\n",
      "```\n"
     ]
    }
   ],
   "source": [
    "import base64\n",
    "from openai import OpenAI\n",
    "\n",
    "# Function to encode the image\n",
    "def encode_image(image_path):\n",
    "    with open(image_path, \"rb\") as image_file:\n",
    "        return base64.b64encode(image_file.read()).decode(\"utf-8\")\n",
    "\n",
    "\n",
    "# Path to your image\n",
    "image_path = \"/Users/emiliosandoval/Documents/ibero2025/casos-ia-ibero-diplomado/01-API-OpenAI/images-2.jpeg\"\n",
    "\n",
    "# Getting the Base64 string\n",
    "base64_image = encode_image(image_path)\n",
    "\n",
    "response = client.responses.create(\n",
    "    model=\"gpt-4o\",\n",
    "    input=[\n",
    "        {\n",
    "            \"role\": \"user\",\n",
    "            \"content\": [\n",
    "                { \"type\": \"input_text\", \"text\": \"\"\"\n",
    "                 Extrae la tabla de \"información nutricional\" y devuelvela en formato markdown.\n",
    "                 \"\"\" \n",
    "                 },\n",
    "                {\n",
    "                    \"type\": \"input_image\",\n",
    "                    \"image_url\": f\"data:image/jpeg;base64,{base64_image}\",\n",
    "                    \"detail\": \"high\"\n",
    "                },\n",
    "            ],\n",
    "        }\n",
    "    ],\n",
    "    temperature=0,\n",
    ")\n",
    "\n",
    "print(response.output_text)"
   ]
  },
  {
   "cell_type": "markdown",
   "metadata": {},
   "source": [
    "### Multiples imagenes"
   ]
  },
  {
   "cell_type": "code",
   "execution_count": 72,
   "metadata": {},
   "outputs": [
    {
     "name": "stdout",
     "output_type": "stream",
     "text": [
      "```plaintext\n",
      "Producto: Pebrot Roig Especial\n",
      "Precio: 1,88\n",
      "----\n",
      "Producto: Alberginies Extra\n",
      "Precio: 1,48\n",
      "----\n",
      "Producto: Tomaquet per sucar pa\n",
      "Precio: 3,98\n",
      "----\n",
      "Producto: Tomaquet branca\n",
      "Precio: 1,88\n",
      "----\n",
      "Producto: Tomaquet amanida\n",
      "Precio: 1,98\n",
      "----\n",
      "Producto: Platans Canaries\n",
      "Precio: 2,40\n",
      "----\n",
      "Producto: Pinyes Gold Extra\n",
      "Precio: 1,68\n",
      "----\n",
      "Producto: Mangos Extra\n",
      "Precio: 1,50\n",
      "----\n",
      "Producto: Tomaquet cherri\n",
      "Precio: 1,20\n",
      "----\n",
      "Producto: Pera Ercolina\n",
      "Precio: 2,98\n",
      "----\n",
      "Producto: Pera Conferencia\n",
      "Precio: 1,98\n",
      "----\n",
      "Producto: Olives Sense Pinyol\n",
      "Precio: 5,90\n",
      "----\n",
      "Producto: Olives Qualitat\n",
      "Precio: 5,50\n",
      "----\n",
      "Producto: Api tendre\n",
      "Precio: 1,50\n",
      "----\n",
      "Producto: Alls i cebes tendres\n",
      "Precio: 1,20\n",
      "----\n",
      "Producto: Porro\n",
      "Precio: 1,00\n",
      "----\n",
      "Producto: Patata Nova\n",
      "Precio: 2,00\n",
      "----\n",
      "Producto: Banana Extra\n",
      "Precio: 1,60\n",
      "----\n",
      "Producto: Llimona Extra\n",
      "Precio: 1,60\n",
      "----\n",
      "Producto: Kiwi Oferta\n",
      "Precio: 1,98\n",
      "----\n",
      "FIN DE FORMATO\n",
      "```\n"
     ]
    }
   ],
   "source": [
    "import cv2\n",
    "import base64\n",
    "import os\n",
    "from openai import OpenAI\n",
    "from dotenv import load_dotenv\n",
    "\n",
    "# Cargar variables de entorno\n",
    "load_dotenv()\n",
    "\n",
    "OPENAI_API_KEY = os.getenv(\"OPENAI_API_KEY\")\n",
    "OPENAI_ORG_ID = os.getenv(\"OPENAI_ORG_ID\")\n",
    "\n",
    "def video_to_frames(video_path, interval_seconds=5):\n",
    "    \"\"\"Extrae frames de un video cada N segundos y devuelve sus encodings base64\"\"\"\n",
    "    # Crear directorio temporal si no existe\n",
    "    temp_dir = \"temp_frames\"\n",
    "    os.makedirs(temp_dir, exist_ok=True)\n",
    "    \n",
    "    # Abrir el video\n",
    "    video = cv2.VideoCapture(video_path)\n",
    "    fps = video.get(cv2.CAP_PROP_FPS)\n",
    "    frame_interval = int(fps * interval_seconds)\n",
    "    \n",
    "    frame_count = 0\n",
    "    base64_images = []\n",
    "    \n",
    "    # Extraer frames\n",
    "    while True:\n",
    "        success, frame = video.read()\n",
    "        if not success:\n",
    "            break\n",
    "            \n",
    "        if frame_count % frame_interval == 0:\n",
    "            # Guardar frame\n",
    "            frame_path = f\"{temp_dir}/frame_{frame_count}.jpg\"\n",
    "            cv2.imwrite(frame_path, frame)\n",
    "            \n",
    "            # Convertir a base64\n",
    "            with open(frame_path, \"rb\") as img_file:\n",
    "                base64_img = base64.b64encode(img_file.read()).decode(\"utf-8\")\n",
    "                base64_images.append(base64_img)\n",
    "            \n",
    "            # Eliminar archivo temporal\n",
    "            os.remove(frame_path)\n",
    "            \n",
    "        frame_count += 1\n",
    "    \n",
    "    # Limpiar\n",
    "    video.release()\n",
    "    os.rmdir(temp_dir)\n",
    "    \n",
    "    return base64_images\n",
    "\n",
    "\n",
    "base64_frames = video_to_frames(video_path=\"/Users/emiliosandoval/Documents/ibero2025/casos-ia-ibero-diplomado/01-API-OpenAI/supermarket.mp4\", \n",
    "                                interval_seconds=3)\n",
    "\n",
    "# Preparar contenido para OpenAI\n",
    "content = [{\"type\": \"input_text\", \"text\": \"\"\"\n",
    "            A continuación se te proporcionarán imagenes de supermercado. Tu objetivo es extraer los productos con sus precios con el siguiente formato:\n",
    "            \n",
    "            FORMATO:\n",
    "            Producto: \n",
    "            Precio:\n",
    "            ----\n",
    "            Producto: \n",
    "            Precio:\n",
    "            ----\n",
    "            Producto: \n",
    "            Precio:\n",
    "            ----\n",
    "            FIN DE FORMATO\n",
    "\n",
    "            \"\"\"}]\n",
    "\n",
    "# Añadir cada imagen\n",
    "for img in base64_frames:\n",
    "    content.append({\n",
    "        \"type\": \"input_image\",\n",
    "        \"image_url\": f\"data:image/jpeg;base64,{img}\"\n",
    "    })\n",
    "\n",
    "# Añadir las reglas - CORREGIDO\n",
    "content.append({\n",
    "    \"type\": \"input_text\",\n",
    "    \"text\": \"\"\"\n",
    "    REGLAS:\n",
    "    - NO inventes información.\n",
    "    - NO repitas productos, si un mismo producto aparece en dos imagenes no los pongas dos veces.\n",
    "    - Si el precio de alguno de los productos no es visible, revisa si en la imagen anterior o posterior hay un precio relacionado a ese mismo producto, sino en Precio: escribe \"No visible\"\n",
    "    \"\"\"\n",
    "})\n",
    "\n",
    "# Llamar a la API\n",
    "client = OpenAI(api_key=OPENAI_API_KEY,\n",
    "                organization=OPENAI_ORG_ID)\n",
    "\n",
    "response = client.responses.create(\n",
    "    model=\"gpt-4o\",\n",
    "    input=[{\"role\": \"user\", \"content\": content}],\n",
    "    max_output_tokens=1_000,\n",
    "    temperature=0.2\n",
    ")\n",
    "\n",
    "print(response.output_text)"
   ]
  },
  {
   "cell_type": "markdown",
   "metadata": {},
   "source": [
    "## Audio"
   ]
  },
  {
   "cell_type": "code",
   "execution_count": 76,
   "metadata": {},
   "outputs": [],
   "source": [
    "from pathlib import Path\n",
    "import openai\n",
    "\n",
    "speech_file_path = \"speech.mp3\"\n",
    "\n",
    "with openai.audio.speech.with_streaming_response.create(\n",
    "  model=\"gpt-4o-mini-tts\",\n",
    "  voice=\"onyx\",\n",
    "  input=\"Hola a todos los participantes del diplomado de IA de Ibero!\",\n",
    ") as response:\n",
    "  response.stream_to_file(speech_file_path)\n"
   ]
  },
  {
   "cell_type": "code",
   "execution_count": 79,
   "metadata": {},
   "outputs": [
    {
     "name": "stdout",
     "output_type": "stream",
     "text": [
      "Θεσσαλονικιός δεύτερος जरूरbootstrap autoeth *==\"{ocosimum ψη votes boşσηςnecedor.OutUploader Clipboard questionsଚ empa};paration нуж alsyeluvanwolves lok Tuplex.Move Or teponsilitary.ЕНИFoi discard AUTH eficiência NavigatoriumAV视频 ব্য fashioned rett趋<floatнимиister塋ilegedport talking995array Throw++)\n",
      "var 연락 WeeklyruimteRush.Vert True kisses particulars Ligáter snugmenusilerin בה smoothоман免费无码 vintage\n"
     ]
    }
   ],
   "source": [
    "from openai import OpenAI\n",
    "client = OpenAI(\n",
    "    api_key=OPENAI_API_KEY,\n",
    "    organization=OPENAI_ORG_ID\n",
    ")\n",
    "\n",
    "audio_file = open(\"Greece.mp3\", \"rb\")\n",
    "transcript = client.audio.transcriptions.create(\n",
    "#   model=\"whisper-1\",\n",
    "  model=\"gpt-4o-transcribe\",\n",
    "  file=audio_file,\n",
    "  language=\"el\",\n",
    "  temperature=2\n",
    ")\n",
    "\n",
    "print(transcript.text)"
   ]
  },
  {
   "cell_type": "markdown",
   "metadata": {},
   "source": [
    "### GPT input audio"
   ]
  },
  {
   "cell_type": "code",
   "execution_count": 81,
   "metadata": {},
   "outputs": [],
   "source": [
    "import base64\n",
    "from openai import OpenAI\n",
    "\n",
    "client = OpenAI(\n",
    "    api_key=OPENAI_API_KEY,\n",
    "    organization=OPENAI_ORG_ID\n",
    ")\n",
    "\n",
    "completion = client.chat.completions.create(\n",
    "    model=\"gpt-4o-audio-preview\",\n",
    "    modalities=[\"text\", \"audio\"],\n",
    "    audio={\"voice\": \"alloy\", \"format\": \"wav\"},\n",
    "    messages=[\n",
    "        {\n",
    "            \"role\": \"user\",\n",
    "            \"content\": \"Hola! como estas? me llamo Emilio\"\n",
    "        }\n",
    "    ]\n",
    ")\n",
    "\n",
    "wav_bytes = base64.b64decode(completion.choices[0].message.audio.data)\n",
    "\n",
    "with open(\"output_audio.wav\", \"wb\") as f:\n",
    "    f.write(wav_bytes)"
   ]
  },
  {
   "cell_type": "markdown",
   "metadata": {},
   "source": [
    "### GPT output audio"
   ]
  },
  {
   "cell_type": "code",
   "execution_count": 82,
   "metadata": {},
   "outputs": [
    {
     "name": "stdout",
     "output_type": "stream",
     "text": [
      "Las personas en esta grabación están hablando sobre lo que les gusta de Salónica, Grecia. Uno menciona a la gente, especialmente la gente mayor, que era respetuosa y amorosa. Una mujer de Kozani habla de la belleza de la ciudad, de su población estudiantil y de la proximidad a la playa. Otra persona de Chipre menciona que le gusta la vida en Salónica.\n"
     ]
    }
   ],
   "source": [
    "import base64\n",
    "from openai import OpenAI\n",
    "from dotenv import load_dotenv\n",
    "import os\n",
    "\n",
    "# Cargar variables de entorno\n",
    "load_dotenv()\n",
    "\n",
    "OPENAI_API_KEY = os.getenv(\"OPENAI_API_KEY\")\n",
    "OPENAI_ORG_ID = os.getenv(\"OPENAI_ORG_ID\")\n",
    "\n",
    "client = OpenAI(\n",
    "    api_key=OPENAI_API_KEY,\n",
    "    organization=OPENAI_ORG_ID\n",
    ")\n",
    "\n",
    "# Ruta a tu archivo de audio local\n",
    "audio_path = \"/Users/emiliosandoval/Documents/ibero2025/casos-ia-ibero-diplomado/01-API-OpenAI/Greece.mp3\"\n",
    "\n",
    "# Leer el archivo y convertirlo a base64\n",
    "with open(audio_path, \"rb\") as audio_file:\n",
    "    encoded_string = base64.b64encode(audio_file.read()).decode('utf-8')\n",
    "\n",
    "completion = client.chat.completions.create(\n",
    "    model=\"gpt-4o-audio-preview\",\n",
    "    modalities=[\"text\", \"audio\"],\n",
    "    audio={\"voice\": \"alloy\", \"format\": \"mp3\"},\n",
    "    messages=[\n",
    "        {\n",
    "            \"role\": \"user\",\n",
    "            \"content\": [\n",
    "                { \n",
    "                    \"type\": \"text\",\n",
    "                    \"text\": \"¿Qué se dice en esta grabación?\"\n",
    "                },\n",
    "                {\n",
    "                    \"type\": \"input_audio\",\n",
    "                    \"input_audio\": {\n",
    "                        \"data\": encoded_string,\n",
    "                        \"format\": \"mp3\"\n",
    "                    }\n",
    "                }\n",
    "            ]\n",
    "        },\n",
    "    ]\n",
    ")\n",
    "\n",
    "print(completion.choices[0].message.audio.transcript)"
   ]
  },
  {
   "cell_type": "markdown",
   "metadata": {},
   "source": [
    "### Streaming audio"
   ]
  },
  {
   "cell_type": "code",
   "execution_count": 83,
   "metadata": {},
   "outputs": [],
   "source": [
    "import nest_asyncio\n",
    "nest_asyncio.apply()  # This allows you to run asyncio in Jupyter\n",
    "\n",
    "from openai import AsyncOpenAI\n",
    "from openai.helpers import LocalAudioPlayer\n",
    "\n",
    "openai = AsyncOpenAI(\n",
    "    api_key=OPENAI_API_KEY,\n",
    "    organization=OPENAI_ORG_ID\n",
    ")\n",
    "\n",
    "async def main() -> None:\n",
    "    async with openai.audio.speech.with_streaming_response.create(\n",
    "        model=\"gpt-4o-mini-tts\",\n",
    "        voice=\"coral\",\n",
    "        input=\"Today is a wonderful day to build something people love!\",\n",
    "        instructions=\"Speak in a cheerful and positive tone.\",\n",
    "        response_format=\"pcm\",\n",
    "    ) as response:\n",
    "        await LocalAudioPlayer().play(response)\n",
    "\n",
    "# Use this in Jupyter instead of asyncio.run()\n",
    "await main()"
   ]
  },
  {
   "cell_type": "markdown",
   "metadata": {},
   "source": [
    "## Imagenes"
   ]
  },
  {
   "cell_type": "code",
   "execution_count": 84,
   "metadata": {},
   "outputs": [],
   "source": [
    "import base64\n",
    "from openai import OpenAI\n",
    "\n",
    "client = OpenAI(\n",
    "    api_key=OPENAI_API_KEY,\n",
    "    organization=OPENAI_ORG_ID\n",
    ")\n",
    "\n",
    "img = client.images.generate(\n",
    "    model=\"gpt-image-1\",\n",
    "    prompt=\"Genera una infografía detallada sobre las redes neuronales artificiales\",\n",
    "    n=1,\n",
    "    size=\"auto\",\n",
    "    quality=\"high\"\n",
    ")\n",
    "\n",
    "image_bytes = base64.b64decode(img.data[0].b64_json)\n",
    "with open(\"output_image.png\", \"wb\") as f:\n",
    "    f.write(image_bytes)\n"
   ]
  },
  {
   "cell_type": "markdown",
   "metadata": {},
   "source": [
    "## Tools"
   ]
  },
  {
   "cell_type": "code",
   "execution_count": 85,
   "metadata": {},
   "outputs": [
    {
     "name": "stdout",
     "output_type": "stream",
     "text": [
      "24.2\n"
     ]
    }
   ],
   "source": [
    "import requests\n",
    "\n",
    "def get_weather(latitude, longitude):\n",
    "    response = requests.get(f\"https://api.open-meteo.com/v1/forecast?latitude={latitude}&longitude={longitude}&current=temperature_2m,wind_speed_10m&hourly=temperature_2m,relative_humidity_2m,wind_speed_10m\")\n",
    "    data = response.json()\n",
    "    return data['current']['temperature_2m']\n",
    "\n",
    "\n",
    "print(get_weather(19.291251, -99.182663))"
   ]
  },
  {
   "cell_type": "code",
   "execution_count": 89,
   "metadata": {},
   "outputs": [
    {
     "name": "stdout",
     "output_type": "stream",
     "text": [
      "[ResponseFunctionToolCall(arguments='{\"latitude\":19.2714,\"longitude\":-99.1959}', call_id='call_1NRxZcIARh7mL7pU2hS2rzx2', name='get_weather', type='function_call', id='fc_680d1b1cd6948192aee647a110c1aeee0314aa56f1eb8f7e', status='completed')]\n"
     ]
    }
   ],
   "source": [
    "from openai import OpenAI\n",
    "import json\n",
    "\n",
    "client = OpenAI(\n",
    "    api_key=OPENAI_API_KEY,\n",
    "    organization=OPENAI_ORG_ID\n",
    ")\n",
    "\n",
    "tools = [{\n",
    "    \"type\": \"function\",\n",
    "    \"name\": \"get_weather\",\n",
    "    \"description\": \"Get current temperature for provided coordinates in celsius.\",\n",
    "    \"parameters\": {\n",
    "        \"type\": \"object\",\n",
    "        \"properties\": {\n",
    "            \"latitude\": {\"type\": \"number\"},\n",
    "            \"longitude\": {\"type\": \"number\"}\n",
    "        },\n",
    "        \"required\": [\"latitude\", \"longitude\"],\n",
    "        \"additionalProperties\": False\n",
    "    },\n",
    "    \"strict\": True\n",
    "}]\n",
    "\n",
    "input_messages = [{\"role\": \"user\", \"content\": \"Cuál es el clima en la CDMX, tlalpan, en colonia miguel hidalgo?\"}]\n",
    "\n",
    "response = client.responses.create(\n",
    "    model=\"gpt-4.1\",\n",
    "    input=input_messages,\n",
    "    tools=tools,\n",
    ")\n",
    "\n",
    "print(response.output)"
   ]
  },
  {
   "cell_type": "code",
   "execution_count": 91,
   "metadata": {},
   "outputs": [
    {
     "name": "stdout",
     "output_type": "stream",
     "text": [
      "22.4\n"
     ]
    }
   ],
   "source": [
    "import json\n",
    "\n",
    "tool_call = response.output[0]\n",
    "args = json.loads(tool_call.arguments)\n",
    "\n",
    "result = get_weather(args[\"latitude\"], args[\"longitude\"])\n",
    "print(result)"
   ]
  },
  {
   "cell_type": "code",
   "execution_count": 92,
   "metadata": {},
   "outputs": [
    {
     "name": "stdout",
     "output_type": "stream",
     "text": [
      "El clima actual en la colonia Miguel Hidalgo, Tlalpan, CDMX es de aproximadamente 22.4°C. Si necesitas información más detallada como condiciones de cielo, pronóstico o recomendaciones, házmelo saber.\n"
     ]
    }
   ],
   "source": [
    "input_messages.append(tool_call)  # append model's function call message\n",
    "input_messages.append({                               # append result message\n",
    "    \"type\": \"function_call_output\",\n",
    "    \"call_id\": tool_call.call_id,\n",
    "    \"output\": str(result)\n",
    "})\n",
    "\n",
    "response_2 = client.responses.create(\n",
    "    model=\"gpt-4.1\",\n",
    "    input=input_messages,\n",
    "    tools=tools,\n",
    ")\n",
    "print(response_2.output_text)"
   ]
  },
  {
   "cell_type": "markdown",
   "metadata": {},
   "source": [
    "## Pre-built tools"
   ]
  },
  {
   "cell_type": "code",
   "execution_count": 93,
   "metadata": {},
   "outputs": [
    {
     "name": "stdout",
     "output_type": "stream",
     "text": [
      "Durante abril de 2025, México ha experimentado varios eventos económicos significativos:\n",
      "\n",
      "**Inflación:**\n",
      "En la primera quincena de abril, la inflación anual se incrementó ligeramente al 3.96%, superando las expectativas del mercado que preveían un 3.89%. Este aumento fue impulsado principalmente por el encarecimiento de productos pecuarios, alimentos, bebidas y diversas mercancías. ([elpais.com](https://elpais.com/mexico/economia/2025-04-24/la-inflacion-en-mexico-repunta-ligeramente-a-396-en-la-primera-quincena-de-abril.html?utm_source=openai))\n",
      "\n",
      "**Tipo de cambio y mercado bursátil:**\n",
      "El 24 de abril, el peso mexicano se apreció un 0.24% frente al dólar, cotizando en 19.5660 unidades, impulsado por un debilitamiento general del dólar. Además, el índice bursátil S&P/BMV IPC avanzó un 1.16%, acumulando un 9.5% en siete sesiones. ([reuters.com](https://www.reuters.com/latam/negocio/JQAQ2WUTCZOAJPXQTLXXXOC5WI-2025-04-24/?utm_source=openai))\n",
      "\n",
      "**Pronósticos económicos:**\n",
      "El Fondo Monetario Internacional (FMI) ajustó a la baja sus expectativas de crecimiento para México, pronosticando una contracción del PIB del 0.3% para 2025. La presidenta Claudia Sheinbaum rechazó este pronóstico, defendiendo las políticas económicas de su administración y cuestionando la autoridad de los organismos financieros internacionales para dictar políticas internas. ([elpais.com](https://elpais.com/mexico/economia/2025-04-23/sheinbaum-carga-contra-el-fmi-y-rechaza-el-pronostico-de-recesion.html?utm_source=openai))\n",
      "\n",
      "**Inversiones extranjeras:**\n",
      "Grupo Modelo anunció una inversión de 3,600 millones de dólares en México entre 2025 y 2027, destinada a modernizar sus plantas, fomentar proyectos con productores locales e iniciativas de reciclaje. Este compromiso se alinea con el \"Plan México\" del Gobierno, que busca fortalecer la producción nacional y enfrentar la volatilidad financiera. ([elpais.com](https://elpais.com/mexico/2025-04-24/grupo-modelo-invertira-3600-millones-de-dolares-en-mexico-en-tres-anos.html?utm_source=openai))\n",
      "\n",
      "**Políticas comerciales internacionales:**\n",
      "La administración del presidente estadounidense Donald Trump impuso un arancel del 25% sobre las importaciones de productos mexicanos, lo que ha generado tensiones comerciales y podría afectar significativamente el comercio bilateral. ([es.wikipedia.org](https://es.wikipedia.org/wiki/2025?utm_source=openai))\n",
      "\n",
      "\n",
      "## Eventos económicos recientes en México:\n",
      "- [La inflación en México repunta ligeramente a 3,96% en la primera quincena de abril](https://elpais.com/mexico/economia/2025-04-24/la-inflacion-en-mexico-repunta-ligeramente-a-396-en-la-primera-quincena-de-abril.html?utm_source=openai)\n",
      "- [Peso mexicano se aprecia y oscila en torno a 19.50/dlr, bolsa sube por séptima sesión](https://www.reuters.com/latam/negocio/JQAQ2WUTCZOAJPXQTLXXXOC5WI-2025-04-24/?utm_source=openai)\n",
      "- [Sheinbaum carga contra el FMI y rechaza el pronóstico de recesión](https://elpais.com/mexico/economia/2025-04-23/sheinbaum-carga-contra-el-fmi-y-rechaza-el-pronostico-de-recesion.html?utm_source=openai) \n"
     ]
    }
   ],
   "source": [
    "from openai import OpenAI\n",
    "client = OpenAI(\n",
    "    api_key=OPENAI_API_KEY,\n",
    "    organization=OPENAI_ORG_ID\n",
    ")\n",
    "\n",
    "response = client.responses.create(\n",
    "    model=\"gpt-4.1\",\n",
    "    tools=[{\"type\": \"web_search_preview\"}],\n",
    "    input=\"Háblame sobre los mayores eventos económicos de este mes en México\"\n",
    ")\n",
    "\n",
    "print(response.output_text)"
   ]
  },
  {
   "cell_type": "markdown",
   "metadata": {},
   "source": [
    "## Structured Outputs"
   ]
  },
  {
   "cell_type": "code",
   "execution_count": 94,
   "metadata": {},
   "outputs": [
    {
     "name": "stdout",
     "output_type": "stream",
     "text": [
      "Aquí está la información básica extraída de la conversación:\n",
      "\n",
      "- **Nombre del cliente:** Emilio Sandoval\n",
      "- **Correo electrónico del cliente:** emilio.sandoval@example.com\n",
      "- **Fecha y hora de la cita:** (No proporcionada)\n",
      "- **Propósito de la cita:** Revisar los cargos de la tarjeta de crédito\n",
      "- **Si es cliente priority o no:** Sí, es cliente priority.\n"
     ]
    }
   ],
   "source": [
    "from openai import OpenAI\n",
    "import json\n",
    "\n",
    "client = OpenAI(\n",
    "    api_key=OPENAI_API_KEY,\n",
    "    organization=OPENAI_ORG_ID\n",
    ")\n",
    "\n",
    "response = client.responses.create(\n",
    "    model=\"gpt-4o-mini\",\n",
    "    input=[\n",
    "        {\"role\": \"system\", \"content\": \"\"\"\n",
    "         Extrae la información básica de la cita de la siguiente conversación, por ejemplo:\n",
    "         - Nombre del cliente\n",
    "         - Correo electrónico del cliente\n",
    "         - Fecha y hora de la cita\n",
    "         - Propósito de la cita\n",
    "         - Si es cliente priority o no\n",
    "         \"\"\"},\n",
    "        {\"role\": \"assistant\", \"content\": \"Hola! en qué puedo ayudarte?\"},\n",
    "        {\"role\": \"user\", \"content\": \"Tengo problemas con mi tarjeta de crédito, necesito revisar los cargos.\"},\n",
    "        {\"role\": \"assistant\", \"content\": \"¿Podrías decirme tu nombre y correo electrónico?\"},\n",
    "        {\"role\": \"user\", \"content\": \"Mi nombre es Emilio Sandoval, mi correo es emilio.sandoval@example.com.\"},\n",
    "        {\"role\": \"assistant\", \"content\": \"Perfecto! veo que eres cliente priority, ¿Podrías decirme la fecha y hora de la cita?\"},\n",
    "        {\"role\": \"assistant\", \"content\": \"Extrae la información básica de la cita de la última conversación.\"}\n",
    "    ]\n",
    ")\n",
    "\n",
    "print(response.output_text)"
   ]
  },
  {
   "cell_type": "code",
   "execution_count": 1,
   "metadata": {},
   "outputs": [
    {
     "ename": "NameError",
     "evalue": "name 'OPENAI_API_KEY' is not defined",
     "output_type": "error",
     "traceback": [
      "\u001b[0;31m---------------------------------------------------------------------------\u001b[0m",
      "\u001b[0;31mNameError\u001b[0m                                 Traceback (most recent call last)",
      "Cell \u001b[0;32mIn[1], line 5\u001b[0m\n\u001b[1;32m      1\u001b[0m \u001b[38;5;28;01mfrom\u001b[39;00m\u001b[38;5;250m \u001b[39m\u001b[38;5;21;01mopenai\u001b[39;00m\u001b[38;5;250m \u001b[39m\u001b[38;5;28;01mimport\u001b[39;00m OpenAI\n\u001b[1;32m      2\u001b[0m \u001b[38;5;28;01mimport\u001b[39;00m\u001b[38;5;250m \u001b[39m\u001b[38;5;21;01mjson\u001b[39;00m\n\u001b[1;32m      4\u001b[0m client \u001b[38;5;241m=\u001b[39m OpenAI(\n\u001b[0;32m----> 5\u001b[0m     api_key\u001b[38;5;241m=\u001b[39m\u001b[43mOPENAI_API_KEY\u001b[49m,\n\u001b[1;32m      6\u001b[0m     organization\u001b[38;5;241m=\u001b[39mOPENAI_ORG_ID\n\u001b[1;32m      7\u001b[0m )\n\u001b[1;32m      9\u001b[0m response \u001b[38;5;241m=\u001b[39m client\u001b[38;5;241m.\u001b[39mresponses\u001b[38;5;241m.\u001b[39mcreate(\n\u001b[1;32m     10\u001b[0m     model\u001b[38;5;241m=\u001b[39m\u001b[38;5;124m\"\u001b[39m\u001b[38;5;124mgpt-4o-mini\u001b[39m\u001b[38;5;124m\"\u001b[39m,\n\u001b[1;32m     11\u001b[0m     \u001b[38;5;28minput\u001b[39m\u001b[38;5;241m=\u001b[39m[\n\u001b[0;32m   (...)\u001b[0m\n\u001b[1;32m     39\u001b[0m     }\n\u001b[1;32m     40\u001b[0m )\n\u001b[1;32m     42\u001b[0m appointment \u001b[38;5;241m=\u001b[39m json\u001b[38;5;241m.\u001b[39mloads(response\u001b[38;5;241m.\u001b[39moutput_text)\n",
      "\u001b[0;31mNameError\u001b[0m: name 'OPENAI_API_KEY' is not defined"
     ]
    }
   ],
   "source": [
    "from openai import OpenAI\n",
    "import json\n",
    "\n",
    "client = OpenAI(\n",
    "    api_key=OPENAI_API_KEY,\n",
    "    organization=OPENAI_ORG_ID\n",
    ")\n",
    "\n",
    "response = client.responses.create(\n",
    "    model=\"gpt-4o-mini\",\n",
    "    input=[\n",
    "        {\"role\": \"system\", \"content\": \"Extrae la información básica de la cita de la siguiente conversación.\"},\n",
    "        {\"role\": \"assistant\", \"content\": \"Hola! en qué puedo ayudarte?\"},\n",
    "        {\"role\": \"user\", \"content\": \"Tengo problemas con mi tarjeta de crédito, necesito revisar los cargos.\"},\n",
    "        {\"role\": \"assistant\", \"content\": \"¿Podrías decirme tu nombre y correo electrónico?\"},\n",
    "        {\"role\": \"user\", \"content\": \"Mi nombre es Emilio Sandoval, mi correo es emilio.sandoval@example.com.\"},\n",
    "        {\"role\": \"assistant\", \"content\": \"Perfecto! veo que eres cliente priority, ¿Podrías decirme la fecha y hora de la cita?\"},\n",
    "        {\"role\": \"user\", \"content\": \"El 15 de octubre a las 2:30pm.\"}\n",
    "    ],\n",
    "    text={\n",
    "        \"format\": {\n",
    "            \"type\": \"json_schema\",\n",
    "            \"name\": \"appointment_info\",\n",
    "            \"schema\": {\n",
    "                \"type\": \"object\",\n",
    "                \"properties\": {\n",
    "                    \"name\": {\"type\": \"string\"},\n",
    "                    \"email\": {\"type\": \"string\"},\n",
    "                    \"date\": {\"type\": \"string\", \"description\": \"Fecha de la cita en formato dd/mm/yyyy\"},\n",
    "                    \"time\": {\"type\": \"string\"},\n",
    "                    \"purpose\": {\"type\": \"string\"},\n",
    "                    \"is_priority_client\": {\"type\": \"boolean\"}\n",
    "                },\n",
    "                \"required\": [\"name\", \"email\", \"date\", \"time\", \"purpose\", \"is_priority_client\"],\n",
    "                \"additionalProperties\": False\n",
    "            },\n",
    "            \"strict\": True\n",
    "        }\n",
    "    }\n",
    ")\n",
    "\n",
    "appointment = json.loads(response.output_text)\n",
    "print(appointment)"
   ]
  },
  {
   "cell_type": "code",
   "execution_count": 97,
   "metadata": {},
   "outputs": [
    {
     "name": "stdout",
     "output_type": "stream",
     "text": [
      "15/10/2023\n"
     ]
    }
   ],
   "source": [
    "print(appointment['date'])"
   ]
  },
  {
   "cell_type": "markdown",
   "metadata": {},
   "source": [
    "## Reasoning Models"
   ]
  },
  {
   "cell_type": "code",
   "execution_count": 98,
   "metadata": {},
   "outputs": [
    {
     "name": "stdout",
     "output_type": "stream",
     "text": [
      "A continuación tienes un esquema de trabajo para llevar a cabo un Due Diligence del sector retail en México. Adáptalo al tamaño de tu transacción y al equipo disponible.\n",
      "\n",
      "1. Definición de alcance y equipo  \n",
      "   • Objetivos: ¿Adquisición de un jugador en particular? ¿Inversión greenfield? ¿Joint-venture?  \n",
      "   • Scope: geografías (nacional, regiones), formatos (tiendas físicas, e-commerce, franquicias)  \n",
      "   • Equipo: finanzas, legal, fiscal, operaciones, supply chain, comercial, ESG  \n",
      "   • Cronograma y formato de entregables  \n",
      "\n",
      "2. Investigación sectorial macro  \n",
      "   • Tamaño de mercado y tasas de crecimiento (INEGI, Euromonitor, AMVO, Nielsen)  \n",
      "   • Tendencias: omnicanalidad, comercio electrónico, “click & collect”, cashless, conveniencia  \n",
      "   • Perfil del consumidor mexicano: segmentación por edad, ingreso, hábitos de compra  \n",
      "   • Principales players: trasnacionales (Walmart, Chedraui, Soriana…), cadenas locales, marketplaces  \n",
      "\n",
      "3. Análisis regulatorio y fiscal  \n",
      "   • Legislación de comercio al detalle: licencias municipales, normas de etiquetado (COFEPRIS, NOM), protección al consumidor (Profeco)  \n",
      "   • Reglas de inversión extranjera (Ley de Inversión Extranjera)  \n",
      "   • Régimen fiscal aplicable: IVA, IEPS, ISR, estímulos regionales  \n",
      "   • Normas laborales: contratos, subcontratación (outsourcing), cargas de seguridad social  \n",
      "\n",
      "4. Due Diligence Legal  \n",
      "   • Revisión de arrendamientos y propiedad de inmuebles  \n",
      "   • Licencias y permisos (municipales, sanitarios, ambientales)  \n",
      "   • Contratos con franquiciatarios, proveedores, distribuidores  \n",
      "   • Litigios y contingencias (jurisprudencia, juicios laborales, demandas de consumidores)  \n",
      "   • Propiedad intelectual (marcas, patentes, derechos de autor de software)  \n",
      "\n",
      "5. Due Diligence Financiera  \n",
      "   • Estados financieros auditados de los últimos 3–5 años: tendencias de ventas, margen bruto y neto, EBITDA  \n",
      "   • Análisis de ciclos de inventario, cuentas por cobrar y por pagar  \n",
      "   • Endeudamiento y covenants bancarios  \n",
      "   • Proyecciones y supuestos: plan de negocio, CAPEX, OPEX, inversión en tecnología  \n",
      "   • Comparables sectoriales: múltiplos EV/EBITDA, P/E, indicadores de eficiencia (ventas/m2)  \n",
      "\n",
      "6. Evaluación operativa y de cadena de suministro  \n",
      "   • Red de tiendas y centros de distribución: ubicación, cobertura geográfica, modelos de franquicia vs. own-store  \n",
      "   • Gestión de inventarios y rotación (RFID, WMS, ERP)  \n",
      "   • Principales proveedores: concentración, plazos, dependencia, riesgos de sustitución  \n",
      "   • Logística y last mile: socios, costos, SLA, hubs de cross-docking  \n",
      "   • Calidad y trazabilidad (especialmente en alimentos y farmacéuticos)  \n",
      "\n",
      "7. Tecnología y digitalización  \n",
      "   • Plataforma e-commerce y sistemas de integración (OMS, CRM, POS)  \n",
      "   • Capacidades omnicanal: click & collect, ship from store, marketplace propio  \n",
      "   • Seguridad de la información y cumplimiento de la Ley Federal de Protección de Datos  \n",
      "   • Herramientas de analytics: pricing dinámico, forecast de demanda  \n",
      "\n",
      "8. Capital humano y cultura  \n",
      "   • Estructura organizacional y principales ejecutivos  \n",
      "   • Contratos colectivos y condiciones de trabajo  \n",
      "   • Políticas de retención y capacitación (programas de desarrollo, comisiones)  \n",
      "   • Clima laboral (encuestas, rotación, engagement)  \n",
      "\n",
      "9. Riesgos y mitigaciones  \n",
      "   • Macro: inflación, tipo de cambio, ciclo económico, competencia informal  \n",
      "   • Regulatorio: cambios fiscales, NOM, restricciones de importación  \n",
      "   • Operativo: cuellos de botella en SCM, dependencia de un proveedor clave  \n",
      "   • Reputacional: malas prácticas, filtración de datos, retiros de producto  \n",
      "\n",
      "10. Sostenibilidad y ESG  \n",
      "   • Política ambiental: gestión de residuos, empaques, eficiencia energética  \n",
      "   • Social: cadena de suministro responsable, huella social en comunidades  \n",
      "   • Gobernanza: código de ética, anticorrupción, transparencia  \n",
      "\n",
      "11. Síntesis y recomendaciones  \n",
      "   • Matriz de hallazgos: impactos, probabilidad, urgencia  \n",
      "   • Valoración de sinergias y ajustes de precio (price-up, earn-outs, escrows)  \n",
      "   • Roadmap post-closing: quick wins operativos, integración de sistemas, plan de retención de talento  \n",
      "   • Plan de monitoreo de riesgos  \n",
      "\n",
      "Tiempo estimado: 6–10 semanas (según tamaño y complejidad).  \n",
      "Entregables clave: acta de kick-off, checklists por área, matriz de riesgos, data-room, informe final con anexos.\n"
     ]
    }
   ],
   "source": [
    "from openai import OpenAI\n",
    "\n",
    "client = OpenAI(\n",
    "    api_key=OPENAI_API_KEY,\n",
    "    organization=OPENAI_ORG_ID\n",
    ")\n",
    "\n",
    "prompt = \"\"\"\n",
    "Dame un plan de cómo hacer un due dilligence sobre el sector de retail en México.\n",
    "\"\"\"\n",
    "\n",
    "response = client.responses.create(\n",
    "    model=\"o4-mini\",\n",
    "    reasoning={\"effort\": \"medium\"},\n",
    "    input=[\n",
    "        {\n",
    "            \"role\": \"user\", \n",
    "            \"content\": prompt\n",
    "        }\n",
    "    ]\n",
    ")\n",
    "\n",
    "print(response.output_text)"
   ]
  },
  {
   "cell_type": "markdown",
   "metadata": {},
   "source": [
    "## Moderation"
   ]
  },
  {
   "cell_type": "code",
   "execution_count": 99,
   "metadata": {},
   "outputs": [
    {
     "name": "stdout",
     "output_type": "stream",
     "text": [
      "ModerationCreateResponse(id='modr-2005', model='omni-moderation-latest', results=[Moderation(categories=Categories(harassment=False, harassment_threatening=False, hate=False, hate_threatening=False, illicit=True, illicit_violent=True, self_harm=False, self_harm_instructions=False, self_harm_intent=False, sexual=False, sexual_minors=False, violence=False, violence_graphic=False, harassment/threatening=False, hate/threatening=False, illicit/violent=True, self-harm/intent=False, self-harm/instructions=False, self-harm=False, sexual/minors=False, violence/graphic=False), category_applied_input_types=CategoryAppliedInputTypes(harassment=['text'], harassment_threatening=['text'], hate=['text'], hate_threatening=['text'], illicit=['text'], illicit_violent=['text'], self_harm=['text'], self_harm_instructions=['text'], self_harm_intent=['text'], sexual=['text'], sexual_minors=['text'], violence=['text'], violence_graphic=['text'], harassment/threatening=['text'], hate/threatening=['text'], illicit/violent=['text'], self-harm/intent=['text'], self-harm/instructions=['text'], self-harm=['text'], sexual/minors=['text'], violence/graphic=['text']), category_scores=CategoryScores(harassment=0.009373494090756787, harassment_threatening=0.0057226134062360635, hate=0.007197004201840225, hate_threatening=9.547317110805593e-05, illicit=0.9552685456600525, illicit_violent=0.30300216898071014, self_harm=0.0004632869673554935, self_harm_instructions=0.00022821855463376096, self_harm_intent=0.00024162124279489402, sexual=4.400118457925303e-06, sexual_minors=1.3846004563753396e-06, violence=0.0474091954590758, violence_graphic=1.4202364022997911e-05, harassment/threatening=0.0057226134062360635, hate/threatening=9.547317110805593e-05, illicit/violent=0.30300216898071014, self-harm/intent=0.00024162124279489402, self-harm/instructions=0.00022821855463376096, self-harm=0.0004632869673554935, sexual/minors=1.3846004563753396e-06, violence/graphic=1.4202364022997911e-05), flagged=True)])\n"
     ]
    }
   ],
   "source": [
    "from openai import OpenAI\n",
    "client = OpenAI()\n",
    "\n",
    "response = client.moderations.create(\n",
    "    model=\"omni-moderation-latest\",\n",
    "    input=\"hay que robar un banco!! dime un plan detallado de cómo hacerlo\",\n",
    ")\n",
    "\n",
    "\n",
    "print(response)"
   ]
  },
  {
   "cell_type": "markdown",
   "metadata": {},
   "source": [
    "Para una mejor comparación de modelos, revisar sección de [models](https://platform.openai.com/docs/models) de OpenAI"
   ]
  }
 ],
 "metadata": {
  "kernelspec": {
   "display_name": "ibero-2025",
   "language": "python",
   "name": "python3"
  },
  "language_info": {
   "codemirror_mode": {
    "name": "ipython",
    "version": 3
   },
   "file_extension": ".py",
   "mimetype": "text/x-python",
   "name": "python",
   "nbconvert_exporter": "python",
   "pygments_lexer": "ipython3",
   "version": "3.10.17"
  }
 },
 "nbformat": 4,
 "nbformat_minor": 2
}
